{
 "cells": [
  {
   "cell_type": "code",
   "execution_count": 1,
   "metadata": {},
   "outputs": [],
   "source": [
    "import requests"
   ]
  },
  {
   "cell_type": "code",
   "execution_count": 2,
   "metadata": {},
   "outputs": [],
   "source": [
    "## Fetch auth cookie\n",
    "session = requests.Session()\n",
    "login_url = \"https://mednet-communities.net/$root/login\"\n",
    "payload = 'email=ladislas14@gmail.com&password=P7qp6hAJS4pEfB7trd'\n",
    "headers = {\n",
    "  'authority': 'mednet-communities.net',\n",
    "  'content-type': 'application/x-www-form-urlencoded',\n",
    "  'accept': 'text/html,application/xhtml+xml,application/xml;q=0.9,image/webp,image/apng,*/*;q=0.8,application/signed-exchange;v=b3;q=0.9',\n",
    "  'accept-language': 'fr-FR,fr;q=0.9,en-US;q=0.8,en;q=0.7'\n",
    "}\n",
    "r = session.request(\"POST\", login_url, headers=headers, data = payload)"
   ]
  },
  {
   "cell_type": "code",
   "execution_count": 3,
   "metadata": {},
   "outputs": [],
   "source": [
    "url = \"https://mednet-communities.net/inn/db/searchinn.aspx\"\n",
    "\n",
    "payload = '__LASTFOCUS=&__EVENTTARGET=&__EVENTARGUMENT=&ctl00%24rightcolumn%24optionType=1&ctl00%24rightcolumn%24option=1&ctl00%24rightcolumn%24Name=&ctl00%24rightcolumn%24language=INN&ctl00%24rightcolumn%24proposedList=Select+one&ctl00%24rightcolumn%24recommendedList=Select+one&ctl00%24rightcolumn%24searchButton=Search'\n",
    "headers = {\n",
    "  'authority': 'mednet-communities.net',\n",
    "  'content-type': 'application/x-www-form-urlencoded',\n",
    "  'accept-language': 'fr-FR,fr;q=0.9,en-US;q=0.8,en;q=0.7'\n",
    "}\n",
    "\n",
    "response = session.request(\"POST\", url, headers=headers, data = payload)"
   ]
  },
  {
   "cell_type": "code",
   "execution_count": 26,
   "metadata": {},
   "outputs": [],
   "source": [
    "import psycopg2\n",
    "conn =  psycopg2.connect(host=\"innov-project-dev.caem3dhjzb3n.ap-southeast-1.rds.amazonaws.com\",database=\"innov_project_dev\", user=\"postgres\", password=\"dphINdADpBFXsPENINBO\")\n",
    "cursor = conn.cursor()\n"
   ]
  },
  {
   "cell_type": "code",
   "execution_count": 34,
   "metadata": {},
   "outputs": [
    {
     "name": "stdout",
     "output_type": "stream",
     "text": [
      "Treating drug id 1\n"
     ]
    },
    {
     "ename": "InternalError",
     "evalue": "current transaction is aborted, commands ignored until end of transaction block\n",
     "output_type": "error",
     "traceback": [
      "\u001b[0;31m---------------------------------------------------------------------------\u001b[0m",
      "\u001b[0;31mInternalError\u001b[0m                             Traceback (most recent call last)",
      "\u001b[0;32m<ipython-input-34-43ca33125460>\u001b[0m in \u001b[0;36m<module>\u001b[0;34m()\u001b[0m\n\u001b[1;32m     16\u001b[0m     \u001b[0mprint\u001b[0m\u001b[0;34m(\u001b[0m\u001b[0;34m'Treating drug id '\u001b[0m\u001b[0;34m+\u001b[0m \u001b[0minn_id\u001b[0m\u001b[0;34m)\u001b[0m\u001b[0;34m\u001b[0m\u001b[0m\n\u001b[1;32m     17\u001b[0m     \u001b[0minn_response\u001b[0m \u001b[0;34m=\u001b[0m \u001b[0msession\u001b[0m\u001b[0;34m.\u001b[0m\u001b[0mget\u001b[0m\u001b[0;34m(\u001b[0m\u001b[0minn_url\u001b[0m\u001b[0;34m)\u001b[0m\u001b[0;34m\u001b[0m\u001b[0m\n\u001b[0;32m---> 18\u001b[0;31m     \u001b[0mcursor\u001b[0m\u001b[0;34m.\u001b[0m\u001b[0mexecute\u001b[0m\u001b[0;34m(\u001b[0m\u001b[0minsert_sql\u001b[0m\u001b[0;34m,\u001b[0m \u001b[0;34m(\u001b[0m\u001b[0minn_id\u001b[0m\u001b[0;34m,\u001b[0m \u001b[0;34m'inn_response.text'\u001b[0m\u001b[0;34m)\u001b[0m\u001b[0;34m)\u001b[0m\u001b[0;34m\u001b[0m\u001b[0m\n\u001b[0m\u001b[1;32m     19\u001b[0m     \u001b[0mprint\u001b[0m\u001b[0;34m(\u001b[0m\u001b[0;34m'hello'\u001b[0m\u001b[0;34m)\u001b[0m\u001b[0;34m\u001b[0m\u001b[0m\n\u001b[1;32m     20\u001b[0m     \u001b[0;32mbreak\u001b[0m\u001b[0;34m\u001b[0m\u001b[0m\n",
      "\u001b[0;31mInternalError\u001b[0m: current transaction is aborted, commands ignored until end of transaction block\n"
     ]
    }
   ],
   "source": [
    "import lxml.html as lh\n",
    "from lxml import etree\n",
    "\n",
    "insert_sql = '''\n",
    "   INSERT INTO inn.inns_html (id, created_at, updated_at, html)\n",
    "        VALUES (%s, now(), now(), %s);\n",
    "       \n",
    "'''\n",
    "\n",
    "doc=lh.fromstring(response.text)\n",
    "\n",
    "#ctl00_rightcolumn_resultBox > div.c > table > tbody > tr:nth-child(1) > td:nth-child(4)\n",
    "for a in doc.cssselect('tr > td:nth-child(4) > a'):\n",
    "    inn_url = 'https://mednet-communities.net/inn/db/' + a.get('href')\n",
    "    inn_id = a.get('href').split('=')[1]\n",
    "    print('Treating drug id '+ inn_id)\n",
    "    inn_response = session.get(inn_url)\n",
    "    cursor.execute(insert_sql, (inn_id, 'inn_response.text'))\n",
    "    print('hello')\n",
    "    break"
   ]
  },
  {
   "cell_type": "code",
   "execution_count": null,
   "metadata": {},
   "outputs": [],
   "source": [
    "cursor.close()"
   ]
  }
 ],
 "metadata": {
  "kernelspec": {
   "display_name": "Python 3",
   "language": "python",
   "name": "python3"
  },
  "language_info": {
   "codemirror_mode": {
    "name": "ipython",
    "version": 3
   },
   "file_extension": ".py",
   "mimetype": "text/x-python",
   "name": "python",
   "nbconvert_exporter": "python",
   "pygments_lexer": "ipython3",
   "version": "3.6.5"
  }
 },
 "nbformat": 4,
 "nbformat_minor": 2
}
