{
 "cells": [
  {
   "cell_type": "code",
   "execution_count": 2,
   "metadata": {},
   "outputs": [],
   "source": [
    "import requests"
   ]
  },
  {
   "cell_type": "code",
   "execution_count": 18,
   "metadata": {},
   "outputs": [],
   "source": [
    "## Fetch auth cookie\n",
    "session = requests.Session()\n",
    "login_url = \"https://mednet-communities.net/$root/login\"\n",
    "payload = 'email=ladislas14@gmail.com&password=P7qp6hAJS4pEfB7trd'\n",
    "headers = {\n",
    "  'authority': 'mednet-communities.net',\n",
    "  'content-type': 'application/x-www-form-urlencoded',\n",
    "  'accept': 'text/html,application/xhtml+xml,application/xml;q=0.9,image/webp,image/apng,*/*;q=0.8,application/signed-exchange;v=b3;q=0.9',\n",
    "  'accept-language': 'fr-FR,fr;q=0.9,en-US;q=0.8,en;q=0.7'\n",
    "}\n",
    "r = session.request(\"POST\", login_url, headers=headers, data = payload)"
   ]
  },
  {
   "cell_type": "code",
   "execution_count": null,
   "metadata": {},
   "outputs": [],
   "source": [
    "url = \"https://mednet-communities.net/inn/db/searchinn.aspx\"\n",
    "\n",
    "payload = '__LASTFOCUS=&__EVENTTARGET=&__EVENTARGUMENT=&ctl00%24rightcolumn%24optionType=1&ctl00%24rightcolumn%24option=1&ctl00%24rightcolumn%24Name=&ctl00%24rightcolumn%24language=INN&ctl00%24rightcolumn%24proposedList=Select+one&ctl00%24rightcolumn%24recommendedList=Select+one&ctl00%24rightcolumn%24searchButton=Search'\n",
    "headers = {\n",
    "  'authority': 'mednet-communities.net',\n",
    "  'content-type': 'application/x-www-form-urlencoded',\n",
    "  'accept-language': 'fr-FR,fr;q=0.9,en-US;q=0.8,en;q=0.7'\n",
    "}\n",
    "\n",
    "response = session.request(\"POST\", url, headers=headers, data = payload)"
   ]
  },
  {
   "cell_type": "code",
   "execution_count": null,
   "metadata": {},
   "outputs": [],
   "source": [
    "response.text"
   ]
  },
  {
   "cell_type": "code",
   "execution_count": null,
   "metadata": {},
   "outputs": [],
   "source": []
  }
 ],
 "metadata": {
  "kernelspec": {
   "display_name": "Python 3",
   "language": "python",
   "name": "python3"
  },
  "language_info": {
   "codemirror_mode": {
    "name": "ipython",
    "version": 3
   },
   "file_extension": ".py",
   "mimetype": "text/x-python",
   "name": "python",
   "nbconvert_exporter": "python",
   "pygments_lexer": "ipython3",
   "version": "3.6.5"
  }
 },
 "nbformat": 4,
 "nbformat_minor": 2
}
